{
 "cells": [
  {
   "cell_type": "markdown",
   "id": "8a1d23ca-5ee5-4d73-b502-d3c894a7db92",
   "metadata": {},
   "source": [
    "## Movie Rating Prediction"
   ]
  },
  {
   "cell_type": "code",
   "execution_count": 1,
   "id": "8866c954-986c-43f2-98e4-9479b7094e84",
   "metadata": {},
   "outputs": [],
   "source": [
    "##  Importing libaries\n",
    "import pandas as pd\n",
    "import numpy as np\n",
    "from sklearn.model_selection import train_test_split\n",
    "from sklearn.preprocessing import StandardScaler, OneHotEncoder\n",
    "from sklearn.compose import ColumnTransformer\n",
    "from sklearn.pipeline import Pipeline\n",
    "from sklearn.ensemble import RandomForestRegressor\n",
    "from sklearn.metrics import mean_squared_error, r2_score\n",
    "\n"
   ]
  },
  {
   "cell_type": "markdown",
   "id": "89861477-97a0-4950-aa05-4f41453af43f",
   "metadata": {},
   "source": [
    "### Importing dataset"
   ]
  },
  {
   "cell_type": "code",
   "execution_count": 2,
   "id": "102214ca-4977-4c61-8e76-6e93d90b4d0f",
   "metadata": {},
   "outputs": [],
   "source": [
    "# Load the dataset\n",
    "df = pd.read_csv(\"IMDb Movies India.csv\", encoding='latin1')"
   ]
  },
  {
   "cell_type": "markdown",
   "id": "24affd1c-f663-4843-a515-8ef0db08672a",
   "metadata": {},
   "source": [
    "### Handlng missing values"
   ]
  },
  {
   "cell_type": "code",
   "execution_count": 3,
   "id": "05cfcd22-bc5c-40ff-8669-1e8b0839943c",
   "metadata": {},
   "outputs": [],
   "source": [
    "\n",
    "# Handle missing values before dropping columns\n",
    "df['Genre'] = df['Genre'].fillna('Unknown')\n",
    "df['Rating'] = df['Rating'].fillna(df['Rating'].mean())\n",
    "df['Director'] = df['Director'].fillna('Unknown')\n",
    "df['Actor 1'] = df['Actor 1'].fillna('Unknown')\n",
    "df['Actor 2'] = df['Actor 2'].fillna('Unknown')\n",
    "df['Actor 3'] = df['Actor 3'].fillna('Unknown')\n",
    "\n",
    "# Process 'Votes'\n",
    "df['Votes'] = df['Votes'].astype(str).str.replace(',', '')\n",
    "df['Votes'] = pd.to_numeric(df['Votes'], errors='coerce')\n",
    "df['Votes'] = df['Votes'].fillna(df['Votes'].median())\n",
    "\n",
    "# Process 'Year'\n",
    "df['Year'] = df['Year'].astype(str).str.extract(r'(\\d{4})')\n",
    "df['Year'] = pd.to_numeric(df['Year'], errors='coerce')\n",
    "df['Year'] = df['Year'].fillna(df['Year'].median())\n",
    "\n",
    "# Process 'Duration'\n",
    "df['Duration'] = df['Duration'].astype(str).replace(r'\\D', '', regex=True)\n",
    "df['Duration'] = pd.to_numeric(df['Duration'], errors='coerce')\n",
    "df['Duration'] = df['Duration'].fillna(df['Duration'].median())\n",
    "\n",
    "# Drop unnecessary columns\n",
    "df = df.drop(columns=['Director', 'Actor 1', 'Actor 2', 'Actor 3', 'Name'])\n",
    "\n",
    "# One-hot encode 'Genre' (consider using drop_first=True to reduce dimensionality)\n",
    "df = pd.get_dummies(df, columns=['Genre'], drop_first=True)\n",
    "\n"
   ]
  },
  {
   "cell_type": "markdown",
   "id": "f893a2ec-4bae-451b-b503-d235d47db0c8",
   "metadata": {},
   "source": [
    "### Scaling numerical Features"
   ]
  },
  {
   "cell_type": "code",
   "execution_count": 4,
   "id": "aa7e5cbb-134f-4acd-84ac-b726e9f8b444",
   "metadata": {},
   "outputs": [],
   "source": [
    "# Scale numerical features\n",
    "numerical_cols = ['Duration', 'Votes', 'Year']\n",
    "scaler = StandardScaler()\n",
    "df[numerical_cols] = scaler.fit_transform(df[numerical_cols])"
   ]
  },
  {
   "cell_type": "markdown",
   "id": "99bb7951-8f53-41fc-88d8-6a0aa3245434",
   "metadata": {},
   "source": [
    "### Split data into train and test "
   ]
  },
  {
   "cell_type": "code",
   "execution_count": 5,
   "id": "db96f7b4-67a2-4c60-b266-5c8f62fd353f",
   "metadata": {},
   "outputs": [],
   "source": [
    "# Define features and target variable\n",
    "X = df.drop(['Rating'], axis=1)\n",
    "y = df['Rating']\n",
    "\n",
    "# Split the dataset\n",
    "X_train, X_test, y_train, y_test = train_test_split(X, y, test_size=0.2, random_state=42)\n"
   ]
  },
  {
   "cell_type": "markdown",
   "id": "b22495bb-cb91-48d0-a441-78cf747e7810",
   "metadata": {},
   "source": [
    "### Train Model"
   ]
  },
  {
   "cell_type": "code",
   "execution_count": 6,
   "id": "4a037d8d-22cd-4b02-8340-f136730424d8",
   "metadata": {},
   "outputs": [],
   "source": [
    "# Train the model\n",
    "model = RandomForestRegressor(random_state=42)\n",
    "model.fit(X_train, y_train)\n",
    "\n",
    "# Make predictions\n",
    "y_pred = model.predict(X_test)"
   ]
  },
  {
   "cell_type": "markdown",
   "id": "3e09b81b-9d20-485f-a6c5-1c6b98ccef96",
   "metadata": {},
   "source": [
    "### Model Evaluation "
   ]
  },
  {
   "cell_type": "code",
   "execution_count": 7,
   "id": "872335b4-bfa0-404a-bd12-0ff4ca0079dc",
   "metadata": {},
   "outputs": [
    {
     "name": "stdout",
     "output_type": "stream",
     "text": [
      "RMSE: 0.8373756889735804\n",
      "R²: 0.2714654247179271\n"
     ]
    }
   ],
   "source": [
    "# Evaluate the model\n",
    "mse = mean_squared_error(y_test, y_pred)\n",
    "rmse = np.sqrt(mse)\n",
    "r2 = r2_score(y_test, y_pred)\n",
    "\n",
    "print(f'RMSE: {rmse}')\n",
    "print(f'R²: {r2}')"
   ]
  }
 ],
 "metadata": {
  "kernelspec": {
   "display_name": "Python 3 (ipykernel)",
   "language": "python",
   "name": "python3"
  },
  "language_info": {
   "codemirror_mode": {
    "name": "ipython",
    "version": 3
   },
   "file_extension": ".py",
   "mimetype": "text/x-python",
   "name": "python",
   "nbconvert_exporter": "python",
   "pygments_lexer": "ipython3",
   "version": "3.12.4"
  }
 },
 "nbformat": 4,
 "nbformat_minor": 5
}
